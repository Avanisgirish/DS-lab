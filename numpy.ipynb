{
  "nbformat": 4,
  "nbformat_minor": 0,
  "metadata": {
    "colab": {
      "provenance": []
    },
    "kernelspec": {
      "name": "python3",
      "display_name": "Python 3"
    },
    "language_info": {
      "name": "python"
    }
  },
  "cells": [
    {
      "cell_type": "code",
      "execution_count": 1,
      "metadata": {
        "colab": {
          "base_uri": "https://localhost:8080/"
        },
        "id": "JhewSsPfyVzA",
        "outputId": "60dbe3ef-210f-4e5c-e5aa-026da681472d"
      },
      "outputs": [
        {
          "output_type": "stream",
          "name": "stdout",
          "text": [
            "[20 30 40 50 60]\n",
            "[20 90 40 50 70]\n",
            "[False False False False False]\n",
            "[ True False  True  True False]\n",
            "[False  True False False  True]\n",
            "[ True  True  True  True  True]\n"
          ]
        }
      ],
      "source": [
        "import numpy as np\n",
        "arr152 = np.array([20,30,40,50,60])\n",
        "arr252 = np.array([20,90,40,50,70])\n",
        "print(arr152)\n",
        "print(arr252)\n",
        "print(np.greater(arr152,arr252))\n",
        "print(np.greater_equal(arr152,arr252))\n",
        "print(np.less(arr152,arr252))\n",
        "print(np.less_equal(arr152,arr252))"
      ]
    },
    {
      "cell_type": "code",
      "source": [
        "arr352=np.arange(30,71,2)\n",
        "print(\"Array of all the even integers from 30 to 70\")\n",
        "print(arr352)"
      ],
      "metadata": {
        "colab": {
          "base_uri": "https://localhost:8080/"
        },
        "id": "zFRs1iaI4zNH",
        "outputId": "6e1f49a6-6f0a-4b70-c422-bd4805e35ba0"
      },
      "execution_count": 2,
      "outputs": [
        {
          "output_type": "stream",
          "name": "stdout",
          "text": [
            "Array of all the even integers from 30 to 70\n",
            "[30 32 34 36 38 40 42 44 46 48 50 52 54 56 58 60 62 64 66 68 70]\n"
          ]
        }
      ]
    },
    {
      "cell_type": "code",
      "source": [
        "arr452=np.identity(3)\n",
        "print('3x3 matrix:')\n",
        "print(arr452)"
      ],
      "metadata": {
        "colab": {
          "base_uri": "https://localhost:8080/"
        },
        "id": "i5afXnMn41qP",
        "outputId": "ca6b141c-edff-4281-ff43-513af31cc698"
      },
      "execution_count": 3,
      "outputs": [
        {
          "output_type": "stream",
          "name": "stdout",
          "text": [
            "3x3 matrix:\n",
            "[[1. 0. 0.]\n",
            " [0. 1. 0.]\n",
            " [0. 0. 1.]]\n"
          ]
        }
      ]
    },
    {
      "cell_type": "code",
      "source": [
        "x52 = np.arange(21)\n",
        "print(\"Original vector:\")\n",
        "print(x52)\n",
        "print(\"After changing the sign of the numbers in the range from 9 to 15:\")\n",
        "x52[(x52 >= 9) & (x52 <= 15)] *= -1\n",
        "print(x52)"
      ],
      "metadata": {
        "colab": {
          "base_uri": "https://localhost:8080/"
        },
        "id": "dGjd3Ahg45c0",
        "outputId": "73324241-b63a-44bd-f338-f17160ed9ebe"
      },
      "execution_count": 4,
      "outputs": [
        {
          "output_type": "stream",
          "name": "stdout",
          "text": [
            "Original vector:\n",
            "[ 0  1  2  3  4  5  6  7  8  9 10 11 12 13 14 15 16 17 18 19 20]\n",
            "After changing the sign of the numbers in the range from 9 to 15:\n",
            "[  0   1   2   3   4   5   6   7   8  -9 -10 -11 -12 -13 -14 -15  16  17\n",
            "  18  19  20]\n"
          ]
        }
      ]
    },
    {
      "cell_type": "code",
      "source": [
        "x52 = np.diag([1, 2, 3, 4, 5])\n",
        "print(x52)"
      ],
      "metadata": {
        "colab": {
          "base_uri": "https://localhost:8080/"
        },
        "id": "dyLXFTcZ49Ip",
        "outputId": "8a336e06-6065-44e4-b37b-b663e2cdf58d"
      },
      "execution_count": 5,
      "outputs": [
        {
          "output_type": "stream",
          "name": "stdout",
          "text": [
            "[[1 0 0 0 0]\n",
            " [0 2 0 0 0]\n",
            " [0 0 3 0 0]\n",
            " [0 0 0 4 0]\n",
            " [0 0 0 0 5]]\n"
          ]
        }
      ]
    },
    {
      "cell_type": "code",
      "source": [
        "x52 = np.array([[5,8],[2,3]])\n",
        "print(\"Original array:\")\n",
        "print(x52)\n",
        "print(\"Sum of all elements:\")\n",
        "print(np.sum(x52))\n",
        "print(\"Sum of each column:\")\n",
        "print(np.sum(x52, axis=0))\n",
        "print(\"Sum of each row:\")\n",
        "print(np.sum(x52, axis=1))"
      ],
      "metadata": {
        "colab": {
          "base_uri": "https://localhost:8080/"
        },
        "id": "j1l0nSQ65BLa",
        "outputId": "419acb23-a51b-4131-db08-b6e1f383363a"
      },
      "execution_count": 6,
      "outputs": [
        {
          "output_type": "stream",
          "name": "stdout",
          "text": [
            "Original array:\n",
            "[[5 8]\n",
            " [2 3]]\n",
            "Sum of all elements:\n",
            "18\n",
            "Sum of each column:\n",
            "[ 7 11]\n",
            "Sum of each row:\n",
            "[13  5]\n"
          ]
        }
      ]
    },
    {
      "cell_type": "code",
      "source": [
        "import os\n",
        "x52 = np.arange(12).reshape(4, 3)\n",
        "print(\"Original array:\")\n",
        "print(x52)\n",
        "header = '0ne Two Three'\n",
        "np.savetxt('temp.txt', x52, fmt=\"%d\", header=header) \n",
        "print(\"After loading, content of the text file:\")\n",
        "result = np.loadtxt('temp.txt')\n",
        "print(result)"
      ],
      "metadata": {
        "colab": {
          "base_uri": "https://localhost:8080/"
        },
        "id": "ObGKJs1e5HUL",
        "outputId": "429c0a82-f0c6-4438-867f-f406fa493228"
      },
      "execution_count": 7,
      "outputs": [
        {
          "output_type": "stream",
          "name": "stdout",
          "text": [
            "Original array:\n",
            "[[ 0  1  2]\n",
            " [ 3  4  5]\n",
            " [ 6  7  8]\n",
            " [ 9 10 11]]\n",
            "After loading, content of the text file:\n",
            "[[ 0.  1.  2.]\n",
            " [ 3.  4.  5.]\n",
            " [ 6.  7.  8.]\n",
            " [ 9. 10. 11.]]\n"
          ]
        }
      ]
    },
    {
      "cell_type": "code",
      "source": [
        "num1 = np.array([0.5, 1.5, 0.23])\n",
        "num2 = np.array([0.49, 1.5444444, 0.23])\n",
        "print(\"\\nOriginal arrays:\")\n",
        "np.set_printoptions(precision=10)\n",
        "print(num1)\n",
        "print(num2)\n",
        "print(\"\\n Two arrays are equal or not:?\")\n",
        "print(np.equal(num1, num2))"
      ],
      "metadata": {
        "colab": {
          "base_uri": "https://localhost:8080/"
        },
        "id": "x_p8ZGeR5LqJ",
        "outputId": "a45a6fc3-0b46-4646-bbde-3e5590519260"
      },
      "execution_count": 8,
      "outputs": [
        {
          "output_type": "stream",
          "name": "stdout",
          "text": [
            "\n",
            "Original arrays:\n",
            "[0.5  1.5  0.23]\n",
            "[0.49      1.5444444 0.23     ]\n",
            "\n",
            " Two arrays are equal or not:?\n",
            "[False False  True]\n"
          ]
        }
      ]
    },
    {
      "cell_type": "code",
      "source": [
        "nums = np.arange(16, dtype='int').reshape(-1, 4)\n",
        "print(\"Original array:\")\n",
        "print(nums)\n",
        "print(\"\\nswapping first and last rows of the said array:\")\n",
        "nums[[0,-1],:]=nums[[-1,0],:]\n",
        "print(nums)"
      ],
      "metadata": {
        "colab": {
          "base_uri": "https://localhost:8080/"
        },
        "id": "J4W0MWUp5PAT",
        "outputId": "4e81134d-68aa-4dc3-b26b-acc286f3ae4e"
      },
      "execution_count": 9,
      "outputs": [
        {
          "output_type": "stream",
          "name": "stdout",
          "text": [
            "Original array:\n",
            "[[ 0  1  2  3]\n",
            " [ 4  5  6  7]\n",
            " [ 8  9 10 11]\n",
            " [12 13 14 15]]\n",
            "\n",
            "swapping first and last rows of the said array:\n",
            "[[12 13 14 15]\n",
            " [ 4  5  6  7]\n",
            " [ 8  9 10 11]\n",
            " [ 0  1  2  3]]\n"
          ]
        }
      ]
    },
    {
      "cell_type": "code",
      "source": [
        "nums1 = np.array([[2, 5, 2],\n",
        "              [1, 5, 5]])\n",
        "nums2 = np.array([[5, 3, 4],\n",
        "              [3, 2, 5]])\n",
        "print(\"Array1:\") \n",
        "print(nums1)\n",
        "print(\"Array2:\") \n",
        "print(nums2)\n",
        "print(\"\\nResult\")\n",
        "print(np.multiply(nums1, nums2))"
      ],
      "metadata": {
        "colab": {
          "base_uri": "https://localhost:8080/"
        },
        "id": "ALyPb2pL5TWp",
        "outputId": "634b564d-d862-45da-d969-da12ccdde2f9"
      },
      "execution_count": 10,
      "outputs": [
        {
          "output_type": "stream",
          "name": "stdout",
          "text": [
            "Array1:\n",
            "[[2 5 2]\n",
            " [1 5 5]]\n",
            "Array2:\n",
            "[[5 3 4]\n",
            " [3 2 5]]\n",
            "\n",
            "Result\n",
            "[[10 15  8]\n",
            " [ 3 10 25]]\n"
          ]
        }
      ]
    }
  ]
}