{
  "nbformat": 4,
  "nbformat_minor": 0,
  "metadata": {
    "colab": {
      "provenance": []
    },
    "kernelspec": {
      "name": "python3",
      "display_name": "Python 3"
    },
    "language_info": {
      "name": "python"
    }
  },
  "cells": [
    {
      "cell_type": "code",
      "execution_count": 10,
      "metadata": {
        "colab": {
          "base_uri": "https://localhost:8080/"
        },
        "id": "NmqYeeVus4a4",
        "outputId": "5ed6e281-1855-4dc8-c2b2-849d71b2e0d3"
      },
      "outputs": [
        {
          "output_type": "stream",
          "name": "stdout",
          "text": [
            "enter no. of rows2\n",
            "enetr no. of colums2\n",
            "enter matrix1 elements\n",
            "2 3 4 5\n",
            "enter matrix2 elements\n",
            "5 6 7 8\n",
            "matrix1 \n",
            " [[2 3]\n",
            " [4 5]]\n",
            "matrix2 \n",
            " [[5 6]\n",
            " [7 8]]\n",
            "dot product \n",
            " [[31 36]\n",
            " [55 64]]\n",
            "transpose \n",
            " [[2 4]\n",
            " [3 5]]\n",
            "trace \n",
            " 7\n",
            "rank \n",
            " 2\n",
            "determinant \n",
            " -2.0\n",
            "inverse \n",
            " [[-2.5  1.5]\n",
            " [ 2.  -1. ]]\n",
            "\n",
            "Eigenvalues:\n",
            "[-0.27491722  7.27491722]\n",
            "\n",
            "Eigenvectors:\n",
            "[[-0.79681209 -0.49436913]\n",
            " [ 0.60422718 -0.86925207]]\n"
          ]
        }
      ],
      "source": [
        "import numpy as np\n",
        "rows=int(input(\"enter no. of rows\"))\n",
        "col=int(input(\"enetr no. of colums\"))\n",
        "print(\"enter matrix1 elements\")\n",
        "elements1= list(map(int, input().split()))\n",
        "matrix1=np.array(elements1).reshape(rows,col)\n",
        "print(\"enter matrix2 elements\")\n",
        "elements2=list(map(int, input().split()))\n",
        "matrix2=np.array(elements2).reshape(rows,col)\n",
        "print(\"matrix1 \\n\",matrix1)\n",
        "print(\"matrix2 \\n\",matrix2)\n",
        "print(\"dot product \\n\",np.dot(matrix1,matrix2))\n",
        "print(\"transpose \\n\",np.transpose(matrix1))\n",
        "print(\"trace \\n\",np.trace(matrix1))\n",
        "print(\"rank \\n\",np.linalg.matrix_rank(matrix1))\n",
        "print(\"determinant \\n\",np.linalg.det(matrix1))\n",
        "print(\"inverse \\n\",np.linalg.inv(matrix1))\n",
        "w, v = np.linalg.eig(matrix1)\n",
        "print(\"\\nEigenvalues:\")\n",
        "print(w)\n",
        "print(\"\\nEigenvectors:\")\n",
        "print(v)"
      ]
    }
  ]
}